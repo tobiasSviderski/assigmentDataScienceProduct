{
 "cells": [
  {
   "cell_type": "code",
   "execution_count": 1,
   "id": "dc4b042d-e81f-4963-9476-babcf17e746f",
   "metadata": {},
   "outputs": [],
   "source": [
    "%matplotlib inline\n",
    "from sklearn.preprocessing import LabelEncoder, OneHotEncoder, StandardScaler\n",
    "from sklearn.tree import DecisionTreeClassifier\n",
    "from sklearn.model_selection import train_test_split\n",
    "from sklearn.pipeline import Pipeline\n",
    "from sklearn.impute import SimpleImputer\n",
    "\n",
    "from imblearn.pipeline import Pipeline \n",
    "from imblearn.over_sampling import SMOTE\n",
    "from sklearn.base import BaseEstimator, TransformerMixin\n",
    "from sklearn.compose import ColumnTransformer\n",
    "\n",
    "from sklearn.tree import DecisionTreeClassifier\n",
    "\n",
    "import sklearn.metrics as metrics\n",
    "from sklearn.metrics import accuracy_score\n",
    "from sklearn.metrics import f1_score\n",
    "from sklearn.metrics import precision_score\n",
    "from sklearn.metrics import recall_score"
   ]
  },
  {
   "cell_type": "code",
   "execution_count": 2,
   "id": "374c8ef8-57a0-456c-aa57-64a76b28a2b8",
   "metadata": {},
   "outputs": [],
   "source": [
    "import numpy as np\n",
    "import pandas as pd\n",
    "import matplotlib.pyplot as plt\n",
    "import seaborn as sns"
   ]
  },
  {
   "cell_type": "code",
   "execution_count": 3,
   "id": "198ff1f4-9b9d-4d34-9b14-3d2a0942e6c8",
   "metadata": {
    "tags": []
   },
   "outputs": [],
   "source": [
    "app = (\n",
    "    pd.read_csv(\"application_record.csv\")\n",
    "    .drop_duplicates('ID', keep='last') \n",
    "    .drop('OCCUPATION_TYPE', axis=1)\n",
    ")  # 438 510 rows"
   ]
  },
  {
   "cell_type": "code",
   "execution_count": 4,
   "id": "f90fc02b-2cf9-4eb8-b895-da431027a6c5",
   "metadata": {},
   "outputs": [],
   "source": [
    "record = (\n",
    "    pd.read_csv(\"credit_record.csv\")\n",
    "    .drop('MONTHS_BALANCE', axis=1)\n",
    "    .replace({'C': 0, 'X' : 0})\n",
    "    .assign(STATUS=lambda x: pd.to_numeric(x['STATUS']),\n",
    "            RESULT = lambda x:1 if (x['STATUS'].astype(int) >= 2).any() else 0)\n",
    "    .drop_duplicates('ID', keep='last')\n",
    ")  # 45985 rows"
   ]
  },
  {
   "cell_type": "code",
   "execution_count": 5,
   "id": "8f1855c4-0502-495d-b5c3-d6258e36afd1",
   "metadata": {},
   "outputs": [],
   "source": [
    "df = app.join(record.set_index('ID'), on='ID', how='inner')  # 36457 rows"
   ]
  },
  {
   "cell_type": "code",
   "execution_count": 10,
   "id": "9bc9df56-6b69-4df0-898a-f0d2412da16f",
   "metadata": {},
   "outputs": [],
   "source": [
    "numeric_features = ['AMT_INCOME_TOTAL', 'DAYS_BIRTH', 'CNT_CHILDREN', 'DAYS_EMPLOYED', 'CNT_FAM_MEMBERS']\n",
    "categorical_features = ['CODE_GENDER', 'FLAG_OWN_CAR', 'FLAG_OWN_REALTY', 'NAME_INCOME_TYPE', 'NAME_EDUCATION_TYPE', 'NAME_FAMILY_STATUS',\n",
    "                       'NAME_HOUSING_TYPE']"
   ]
  },
  {
   "cell_type": "code",
   "execution_count": 11,
   "id": "3a5312d6-54ef-4cdb-bb80-34a2119d4dd9",
   "metadata": {},
   "outputs": [],
   "source": [
    "numeric_transformer = Pipeline(steps=[\n",
    "    ('imputer', SimpleImputer(strategy='median')),\n",
    "    ('scaler', StandardScaler())])\n",
    "\n",
    "categorical_transformer = Pipeline(steps=[\n",
    "    ('imputer', SimpleImputer(strategy='constant', fill_value='missing')),\n",
    "    ('onehot', OneHotEncoder(handle_unknown='ignore'))])"
   ]
  },
  {
   "cell_type": "code",
   "execution_count": 12,
   "id": "6482ac5e-bcf0-4d04-b0e5-b647a1e6fe0a",
   "metadata": {},
   "outputs": [],
   "source": [
    "transformer = ColumnTransformer(\n",
    "    transformers = [\n",
    "        ('numeric_data_preprocessing', numeric_transformer, numeric_features),\n",
    "        ('categorical_data_preprocessing', categorical_transformer, categorical_features),\n",
    "    ]\n",
    ")"
   ]
  },
  {
   "cell_type": "code",
   "execution_count": 13,
   "id": "5c323e4c-c57b-41db-ae26-39b242ac2a39",
   "metadata": {},
   "outputs": [],
   "source": [
    "final_pipeline = Pipeline(\n",
    "    steps=[\n",
    "        ('transformer', transformer),\n",
    "        ('rf_estimator', DecisionTreeClassifier())\n",
    "    ])"
   ]
  },
  {
   "cell_type": "code",
   "execution_count": 14,
   "id": "3e12e218-f410-4406-89af-3e6b1f4d2c8d",
   "metadata": {},
   "outputs": [],
   "source": [
    "# Split the data into train and test\n",
    "X = df.drop('RESULT', axis=1)\n",
    "y = df['RESULT']\n",
    "X_train, X_test, y_train, y_test = train_test_split(X, y, test_size=.2)"
   ]
  },
  {
   "cell_type": "code",
   "execution_count": 15,
   "id": "11ab65a5-6044-415c-bccc-ddad169b7f4b",
   "metadata": {},
   "outputs": [
    {
     "data": {
      "text/plain": [
       "Pipeline(steps=[('transformer',\n",
       "                 ColumnTransformer(transformers=[('numeric_data_preprocessing',\n",
       "                                                  Pipeline(steps=[('imputer',\n",
       "                                                                   SimpleImputer(strategy='median')),\n",
       "                                                                  ('scaler',\n",
       "                                                                   StandardScaler())]),\n",
       "                                                  ['AMT_INCOME_TOTAL',\n",
       "                                                   'DAYS_BIRTH', 'CNT_CHILDREN',\n",
       "                                                   'DAYS_EMPLOYED',\n",
       "                                                   'CNT_FAM_MEMBERS']),\n",
       "                                                 ('categorical_data_preprocessing',\n",
       "                                                  Pipeline(steps=[('imputer',\n",
       "                                                                   SimpleImputer(fill_value='missing',\n",
       "                                                                                 strategy='constant')),\n",
       "                                                                  ('onehot',\n",
       "                                                                   OneHotEncoder(handle_unknown='ignore'))]),\n",
       "                                                  ['CODE_GENDER',\n",
       "                                                   'FLAG_OWN_CAR',\n",
       "                                                   'FLAG_OWN_REALTY',\n",
       "                                                   'NAME_INCOME_TYPE',\n",
       "                                                   'NAME_EDUCATION_TYPE',\n",
       "                                                   'NAME_FAMILY_STATUS',\n",
       "                                                   'NAME_HOUSING_TYPE'])])),\n",
       "                ('rf_estimator', DecisionTreeClassifier())])"
      ]
     },
     "execution_count": 15,
     "metadata": {},
     "output_type": "execute_result"
    }
   ],
   "source": [
    "final_pipeline.fit(X_train, y_train)"
   ]
  },
  {
   "cell_type": "code",
   "execution_count": 16,
   "id": "35e990f9-ede3-4c94-bdc7-928568cc3390",
   "metadata": {},
   "outputs": [],
   "source": [
    "y_pred = final_pipeline.predict(X_test)"
   ]
  },
  {
   "cell_type": "code",
   "execution_count": 17,
   "id": "ee346c70-1f15-4039-8a35-a0103d057c85",
   "metadata": {},
   "outputs": [
    {
     "name": "stdout",
     "output_type": "stream",
     "text": [
      "Accuracy Score:  1.0\n",
      "F1 Score:  1.0\n",
      "Precision Score:  1.0\n",
      "Recall Score:  1.0\n"
     ]
    }
   ],
   "source": [
    "print(\"Accuracy Score: \", accuracy_score(y_test, y_pred))\n",
    "print(\"F1 Score: \", f1_score(y_test, y_pred, average='weighted'))\n",
    "print(\"Precision Score: \", precision_score(y_test, y_pred, average='weighted'))\n",
    "print(\"Recall Score: \", recall_score(y_test, y_pred, average='weighted'))"
   ]
  }
 ],
 "metadata": {
  "kernelspec": {
   "display_name": "Python 3 (ipykernel)",
   "language": "python",
   "name": "python3"
  },
  "language_info": {
   "codemirror_mode": {
    "name": "ipython",
    "version": 3
   },
   "file_extension": ".py",
   "mimetype": "text/x-python",
   "name": "python",
   "nbconvert_exporter": "python",
   "pygments_lexer": "ipython3",
   "version": "3.10.3"
  }
 },
 "nbformat": 4,
 "nbformat_minor": 5
}
