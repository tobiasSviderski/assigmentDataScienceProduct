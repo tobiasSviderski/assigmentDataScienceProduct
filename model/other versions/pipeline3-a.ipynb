{
 "cells": [
  {
   "cell_type": "code",
   "execution_count": 1,
   "id": "dc4b042d-e81f-4963-9476-babcf17e746f",
   "metadata": {},
   "outputs": [],
   "source": [
    "%matplotlib inline\n",
    "## Preprocessing\n",
    "from sklearn.preprocessing import LabelEncoder, OneHotEncoder, StandardScaler\n",
    "from sklearn.impute import SimpleImputer\n",
    "\n",
    "## Train test split\n",
    "from sklearn.model_selection import train_test_split\n",
    "\n",
    "## Pipeline\n",
    "from imblearn.pipeline import Pipeline  #  Pipeline\n",
    "from sklearn.compose import ColumnTransformer  # Join transformers\n",
    "from imblearn.over_sampling import SMOTE  # Oversampling technique\n",
    "from imblearn import FunctionSampler\n",
    "\n",
    "## Model\n",
    "from sklearn.tree import DecisionTreeClassifier\n",
    "\n",
    "## Precision metrics\n",
    "import sklearn.metrics as metrics\n",
    "from sklearn.metrics import accuracy_score\n",
    "from sklearn.metrics import f1_score\n",
    "from sklearn.metrics import precision_score\n",
    "from sklearn.metrics import recall_score"
   ]
  },
  {
   "cell_type": "code",
   "execution_count": 2,
   "id": "374c8ef8-57a0-456c-aa57-64a76b28a2b8",
   "metadata": {},
   "outputs": [],
   "source": [
    "import numpy as np\n",
    "import pandas as pd\n",
    "import matplotlib.pyplot as plt\n",
    "import seaborn as sns"
   ]
  },
  {
   "cell_type": "code",
   "execution_count": 3,
   "id": "198ff1f4-9b9d-4d34-9b14-3d2a0942e6c8",
   "metadata": {
    "tags": []
   },
   "outputs": [],
   "source": [
    "# Create data frame of people\n",
    "pple = (\n",
    "    pd.read_csv(\"application_record.csv\")  # Read the csv file\n",
    "    .drop_duplicates('ID', keep='last')  # Drop duplicate ids\n",
    "    .drop('OCCUPATION_TYPE', axis=1)  # Drop occupation type column\n",
    "    .assign(\n",
    "        AMT_INCOME_TOTAL=lambda x: pd.to_numeric(x['AMT_INCOME_TOTAL']),\n",
    "        DAYS_BIRTH=lambda x: pd.to_numeric(x['DAYS_BIRTH']),\n",
    "        CNT_CHILDREN=lambda x: pd.to_numeric(x['CNT_CHILDREN']),\n",
    "        DAYS_EMPLOYED=lambda x: pd.to_numeric(x['DAYS_EMPLOYED']),\n",
    "        CNT_FAM_MEMBERS=lambda x: pd.to_numeric(x['CNT_FAM_MEMBERS']),\n",
    "    )  # Convert to number\n",
    ")  # 438 510 rows"
   ]
  },
  {
   "cell_type": "code",
   "execution_count": 4,
   "id": "f90fc02b-2cf9-4eb8-b895-da431027a6c5",
   "metadata": {},
   "outputs": [],
   "source": [
    "# Create data frame of record\n",
    "record = (\n",
    "    pd.read_csv(\"credit_record.csv\")  # Read the csv file\n",
    "    .drop('MONTHS_BALANCE', axis=1)  # Drop months balance its not needed\n",
    "    .replace({'C': 0, 'X' : 0})  # Replace the text - it means the same thing\n",
    "    .assign(STATUS=lambda x: pd.to_numeric(x['STATUS']))  # Convert to number\n",
    ")  # 45985 rows\n",
    "\n",
    "# Mark the rows where the person owed the debt for two or more monts as default\n",
    "# marker 1 otherwise 0\n",
    "record['RESULT'] = record['STATUS'].apply(lambda x:1 if x >= 2 else 0) \n",
    "\n",
    "# Join the two data frames based on the ID inner wise\n",
    "df = pple.join(record.set_index('ID'), on='ID', how='inner')  # 36457 rows"
   ]
  },
  {
   "cell_type": "code",
   "execution_count": 5,
   "id": "9bc9df56-6b69-4df0-898a-f0d2412da16f",
   "metadata": {},
   "outputs": [],
   "source": [
    "# Features that need to be manipulated with\n",
    "numeric_features = ['AMT_INCOME_TOTAL', 'DAYS_BIRTH', 'CNT_CHILDREN', 'DAYS_EMPLOYED', 'CNT_FAM_MEMBERS']\n",
    "categorical_features = ['CODE_GENDER', 'FLAG_OWN_CAR', 'FLAG_OWN_REALTY', 'NAME_INCOME_TYPE', 'NAME_EDUCATION_TYPE', 'NAME_FAMILY_STATUS',\n",
    "                       'NAME_HOUSING_TYPE']"
   ]
  },
  {
   "cell_type": "code",
   "execution_count": 6,
   "id": "ab27b476-1f38-4c60-925d-cb6f2630fee0",
   "metadata": {},
   "outputs": [],
   "source": [
    "def CustomSampler_IQR (X, y):\n",
    "    \n",
    "    features = X.columns\n",
    "    df = X.copy()\n",
    "    df['Outcome'] = y\n",
    "    \n",
    "    indices = [x for x in df.index]    \n",
    "    out_indexlist = []\n",
    "        \n",
    "    for col in features:\n",
    "       \n",
    "        #Using nanpercentile instead of percentile because of nan values\n",
    "        Q1 = np.nanpercentile(df[col], 25.)\n",
    "        Q3 = np.nanpercentile(df[col], 75.)\n",
    "        \n",
    "        cut_off = (Q3 - Q1) * 1.5\n",
    "        upper, lower = Q3 + cut_off, Q1 - cut_off\n",
    "                \n",
    "        outliers_index = df[col][(df[col] < lower) | (df[col] > upper)].index.tolist()\n",
    "        outliers = df[col][(df[col] < lower) | (df[col] > upper)].values        \n",
    "        out_indexlist.extend(outliers_index)\n",
    "        \n",
    "    #using set to remove duplicates\n",
    "    out_indexlist = list(set(out_indexlist))\n",
    "    \n",
    "    clean_data = np.setdiff1d(indices,out_indexlist)\n",
    "\n",
    "    return X.loc[clean_data], y.loc[clean_data]"
   ]
  },
  {
   "cell_type": "code",
   "execution_count": 7,
   "id": "898c42fd-4741-4531-ae7e-ceeb14e045d2",
   "metadata": {
    "tags": []
   },
   "outputs": [],
   "source": [
    "def IQR_Outliers (X, features):\n",
    "\n",
    "    print('# of features: ', len(features))\n",
    "    print('Features: ', features)\n",
    "\n",
    "    indices = [x for x in X.index]\n",
    "    #print(indices)\n",
    "    print('Number of samples: ', len(indices))\n",
    "    \n",
    "    out_indexlist = []\n",
    "        \n",
    "    for col in features:\n",
    "       \n",
    "        #Using nanpercentile instead of percentile because of nan values\n",
    "        Q1 = np.nanpercentile(X[col], 25.)\n",
    "        Q3 = np.nanpercentile(X[col], 75.)\n",
    "        \n",
    "        cut_off = (Q3 - Q1) * 1.5\n",
    "        upper, lower = Q3 + cut_off, Q1 - cut_off\n",
    "        print ('\\nFeature: ', col)\n",
    "        print ('Upper and Lower limits: ', upper, lower)\n",
    "                \n",
    "        outliers_index = X[col][(X[col] < lower) | (X[col] > upper)].index.tolist()\n",
    "        outliers = X[col][(X[col] < lower) | (X[col] > upper)].values\n",
    "        print('Number of outliers: ', len(outliers))\n",
    "        print('Outliers Index: ', outliers_index)\n",
    "        print('Outliers: ', outliers)\n",
    "        \n",
    "        out_indexlist.extend(outliers_index)\n",
    "        \n",
    "    #using set to remove duplicates\n",
    "    out_indexlist = list(set(out_indexlist))\n",
    "    out_indexlist.sort()\n",
    "    print('\\nNumber of rows with outliers: ', len(out_indexlist))\n",
    "    print('List of rows with outliers: ', out_indexlist)"
   ]
  },
  {
   "cell_type": "code",
   "execution_count": 8,
   "id": "3a5312d6-54ef-4cdb-bb80-34a2119d4dd9",
   "metadata": {},
   "outputs": [],
   "source": [
    "# Apply transformers\n",
    "numeric_transformer = Pipeline(steps=[\n",
    "    ('imputer', SimpleImputer(strategy='median')),  # Replace missing values with median\n",
    "    ('scaler', StandardScaler())])  # Scale normally the values\n",
    "\n",
    "categorical_transformer = Pipeline(steps=[\n",
    "    ('imputer', SimpleImputer(strategy='constant', fill_value='missing')),  # Replace missing values with the word missing\n",
    "    ('onehot', OneHotEncoder(handle_unknown='ignore'))])  # Encode the categorical values to prevent bias"
   ]
  },
  {
   "cell_type": "code",
   "execution_count": 9,
   "id": "6482ac5e-bcf0-4d04-b0e5-b647a1e6fe0a",
   "metadata": {},
   "outputs": [],
   "source": [
    "# Join the transformers into one function \n",
    "transformer = ColumnTransformer(\n",
    "    transformers = [\n",
    "        # Mame of the operation, what transformer is applied, on which features\n",
    "        ('numeric_data_preprocessing', numeric_transformer, numeric_features),\n",
    "        ('categorical_data_preprocessing', categorical_transformer, categorical_features),\n",
    "    ]\n",
    ")"
   ]
  },
  {
   "cell_type": "code",
   "execution_count": 13,
   "id": "5c323e4c-c57b-41db-ae26-39b242ac2a39",
   "metadata": {},
   "outputs": [],
   "source": [
    "# Creating a pipeline with specific steps\n",
    "final_pipeline = Pipeline(\n",
    "    steps=[\n",
    "        ('transformer', transformer),  # Apply transformation rules on the features\n",
    "        ('imbalanced', SMOTE(random_state=38)),  # Imbalanced dataset\n",
    "        ('outlier', FunctionSampler(func=CustomSampler_IQR, validate=False)),\n",
    "\n",
    "        ('rf_estimator', DecisionTreeClassifier())  # Apply model\n",
    "    ])"
   ]
  },
  {
   "cell_type": "code",
   "execution_count": 14,
   "id": "3e12e218-f410-4406-89af-3e6b1f4d2c8d",
   "metadata": {},
   "outputs": [],
   "source": [
    "# Preparing before using the pipeline on the dataframe\n",
    "\n",
    "# Split the data into train and test\n",
    "# Divide the data frame and the actual results\n",
    "X = df.drop('RESULT', axis=1) \n",
    "y = df['RESULT']\n",
    "\n",
    "# Split into test, train and data, results\n",
    "X_train, X_test, y_train, y_test = train_test_split(X, y, test_size=.2)"
   ]
  },
  {
   "cell_type": "code",
   "execution_count": 15,
   "id": "11ab65a5-6044-415c-bccc-ddad169b7f4b",
   "metadata": {
    "tags": []
   },
   "outputs": [
    {
     "ename": "AttributeError",
     "evalue": "'numpy.ndarray' object has no attribute 'columns'",
     "output_type": "error",
     "traceback": [
      "\u001b[1;31m---------------------------------------------------------------------------\u001b[0m",
      "\u001b[1;31mAttributeError\u001b[0m                            Traceback (most recent call last)",
      "Input \u001b[1;32mIn [15]\u001b[0m, in \u001b[0;36m<cell line: 2>\u001b[1;34m()\u001b[0m\n\u001b[0;32m      1\u001b[0m \u001b[38;5;66;03m# Run the pipeline\u001b[39;00m\n\u001b[1;32m----> 2\u001b[0m \u001b[43mfinal_pipeline\u001b[49m\u001b[38;5;241;43m.\u001b[39;49m\u001b[43mfit\u001b[49m\u001b[43m(\u001b[49m\u001b[43mX_train\u001b[49m\u001b[43m,\u001b[49m\u001b[43m \u001b[49m\u001b[43my_train\u001b[49m\u001b[43m)\u001b[49m\n",
      "File \u001b[1;32m~\\learning\\model\\env\\lib\\site-packages\\imblearn\\pipeline.py:268\u001b[0m, in \u001b[0;36mPipeline.fit\u001b[1;34m(self, X, y, **fit_params)\u001b[0m\n\u001b[0;32m    241\u001b[0m \u001b[38;5;124;03m\"\"\"Fit the model.\u001b[39;00m\n\u001b[0;32m    242\u001b[0m \n\u001b[0;32m    243\u001b[0m \u001b[38;5;124;03mFit all the transforms/samplers one after the other and\u001b[39;00m\n\u001b[1;32m   (...)\u001b[0m\n\u001b[0;32m    265\u001b[0m \u001b[38;5;124;03m    This estimator.\u001b[39;00m\n\u001b[0;32m    266\u001b[0m \u001b[38;5;124;03m\"\"\"\u001b[39;00m\n\u001b[0;32m    267\u001b[0m fit_params_steps \u001b[38;5;241m=\u001b[39m \u001b[38;5;28mself\u001b[39m\u001b[38;5;241m.\u001b[39m_check_fit_params(\u001b[38;5;241m*\u001b[39m\u001b[38;5;241m*\u001b[39mfit_params)\n\u001b[1;32m--> 268\u001b[0m Xt, yt \u001b[38;5;241m=\u001b[39m \u001b[38;5;28mself\u001b[39m\u001b[38;5;241m.\u001b[39m_fit(X, y, \u001b[38;5;241m*\u001b[39m\u001b[38;5;241m*\u001b[39mfit_params_steps)\n\u001b[0;32m    269\u001b[0m \u001b[38;5;28;01mwith\u001b[39;00m _print_elapsed_time(\u001b[38;5;124m\"\u001b[39m\u001b[38;5;124mPipeline\u001b[39m\u001b[38;5;124m\"\u001b[39m, \u001b[38;5;28mself\u001b[39m\u001b[38;5;241m.\u001b[39m_log_message(\u001b[38;5;28mlen\u001b[39m(\u001b[38;5;28mself\u001b[39m\u001b[38;5;241m.\u001b[39msteps) \u001b[38;5;241m-\u001b[39m \u001b[38;5;241m1\u001b[39m)):\n\u001b[0;32m    270\u001b[0m     \u001b[38;5;28;01mif\u001b[39;00m \u001b[38;5;28mself\u001b[39m\u001b[38;5;241m.\u001b[39m_final_estimator \u001b[38;5;241m!=\u001b[39m \u001b[38;5;124m\"\u001b[39m\u001b[38;5;124mpassthrough\u001b[39m\u001b[38;5;124m\"\u001b[39m:\n",
      "File \u001b[1;32m~\\learning\\model\\env\\lib\\site-packages\\imblearn\\pipeline.py:226\u001b[0m, in \u001b[0;36mPipeline._fit\u001b[1;34m(self, X, y, **fit_params_steps)\u001b[0m\n\u001b[0;32m    216\u001b[0m     X, fitted_transformer \u001b[38;5;241m=\u001b[39m fit_transform_one_cached(\n\u001b[0;32m    217\u001b[0m         cloned_transformer,\n\u001b[0;32m    218\u001b[0m         X,\n\u001b[1;32m   (...)\u001b[0m\n\u001b[0;32m    223\u001b[0m         \u001b[38;5;241m*\u001b[39m\u001b[38;5;241m*\u001b[39mfit_params_steps[name],\n\u001b[0;32m    224\u001b[0m     )\n\u001b[0;32m    225\u001b[0m \u001b[38;5;28;01melif\u001b[39;00m \u001b[38;5;28mhasattr\u001b[39m(cloned_transformer, \u001b[38;5;124m\"\u001b[39m\u001b[38;5;124mfit_resample\u001b[39m\u001b[38;5;124m\"\u001b[39m):\n\u001b[1;32m--> 226\u001b[0m     X, y, fitted_transformer \u001b[38;5;241m=\u001b[39m fit_resample_one_cached(\n\u001b[0;32m    227\u001b[0m         cloned_transformer,\n\u001b[0;32m    228\u001b[0m         X,\n\u001b[0;32m    229\u001b[0m         y,\n\u001b[0;32m    230\u001b[0m         message_clsname\u001b[38;5;241m=\u001b[39m\u001b[38;5;124m\"\u001b[39m\u001b[38;5;124mPipeline\u001b[39m\u001b[38;5;124m\"\u001b[39m,\n\u001b[0;32m    231\u001b[0m         message\u001b[38;5;241m=\u001b[39m\u001b[38;5;28mself\u001b[39m\u001b[38;5;241m.\u001b[39m_log_message(step_idx),\n\u001b[0;32m    232\u001b[0m         \u001b[38;5;241m*\u001b[39m\u001b[38;5;241m*\u001b[39mfit_params_steps[name],\n\u001b[0;32m    233\u001b[0m     )\n\u001b[0;32m    234\u001b[0m \u001b[38;5;66;03m# Replace the transformer of the step with the fitted\u001b[39;00m\n\u001b[0;32m    235\u001b[0m \u001b[38;5;66;03m# transformer. This is necessary when loading the transformer\u001b[39;00m\n\u001b[0;32m    236\u001b[0m \u001b[38;5;66;03m# from the cache.\u001b[39;00m\n\u001b[0;32m    237\u001b[0m \u001b[38;5;28mself\u001b[39m\u001b[38;5;241m.\u001b[39msteps[step_idx] \u001b[38;5;241m=\u001b[39m (name, fitted_transformer)\n",
      "File \u001b[1;32m~\\learning\\model\\env\\lib\\site-packages\\joblib\\memory.py:349\u001b[0m, in \u001b[0;36mNotMemorizedFunc.__call__\u001b[1;34m(self, *args, **kwargs)\u001b[0m\n\u001b[0;32m    348\u001b[0m \u001b[38;5;28;01mdef\u001b[39;00m \u001b[38;5;21m__call__\u001b[39m(\u001b[38;5;28mself\u001b[39m, \u001b[38;5;241m*\u001b[39margs, \u001b[38;5;241m*\u001b[39m\u001b[38;5;241m*\u001b[39mkwargs):\n\u001b[1;32m--> 349\u001b[0m     \u001b[38;5;28;01mreturn\u001b[39;00m \u001b[38;5;28mself\u001b[39m\u001b[38;5;241m.\u001b[39mfunc(\u001b[38;5;241m*\u001b[39margs, \u001b[38;5;241m*\u001b[39m\u001b[38;5;241m*\u001b[39mkwargs)\n",
      "File \u001b[1;32m~\\learning\\model\\env\\lib\\site-packages\\imblearn\\pipeline.py:394\u001b[0m, in \u001b[0;36m_fit_resample_one\u001b[1;34m(sampler, X, y, message_clsname, message, **fit_params)\u001b[0m\n\u001b[0;32m    392\u001b[0m \u001b[38;5;28;01mdef\u001b[39;00m \u001b[38;5;21m_fit_resample_one\u001b[39m(sampler, X, y, message_clsname\u001b[38;5;241m=\u001b[39m\u001b[38;5;124m\"\u001b[39m\u001b[38;5;124m\"\u001b[39m, message\u001b[38;5;241m=\u001b[39m\u001b[38;5;28;01mNone\u001b[39;00m, \u001b[38;5;241m*\u001b[39m\u001b[38;5;241m*\u001b[39mfit_params):\n\u001b[0;32m    393\u001b[0m     \u001b[38;5;28;01mwith\u001b[39;00m _print_elapsed_time(message_clsname, message):\n\u001b[1;32m--> 394\u001b[0m         X_res, y_res \u001b[38;5;241m=\u001b[39m sampler\u001b[38;5;241m.\u001b[39mfit_resample(X, y, \u001b[38;5;241m*\u001b[39m\u001b[38;5;241m*\u001b[39mfit_params)\n\u001b[0;32m    396\u001b[0m         \u001b[38;5;28;01mreturn\u001b[39;00m X_res, y_res, sampler\n",
      "File \u001b[1;32m~\\learning\\model\\env\\lib\\site-packages\\imblearn\\base.py:314\u001b[0m, in \u001b[0;36mFunctionSampler.fit_resample\u001b[1;34m(self, X, y)\u001b[0m\n\u001b[0;32m    308\u001b[0m     X, y, binarize_y \u001b[38;5;241m=\u001b[39m \u001b[38;5;28mself\u001b[39m\u001b[38;5;241m.\u001b[39m_check_X_y(X, y, accept_sparse\u001b[38;5;241m=\u001b[39m\u001b[38;5;28mself\u001b[39m\u001b[38;5;241m.\u001b[39maccept_sparse)\n\u001b[0;32m    310\u001b[0m \u001b[38;5;28mself\u001b[39m\u001b[38;5;241m.\u001b[39msampling_strategy_ \u001b[38;5;241m=\u001b[39m check_sampling_strategy(\n\u001b[0;32m    311\u001b[0m     \u001b[38;5;28mself\u001b[39m\u001b[38;5;241m.\u001b[39msampling_strategy, y, \u001b[38;5;28mself\u001b[39m\u001b[38;5;241m.\u001b[39m_sampling_type\n\u001b[0;32m    312\u001b[0m )\n\u001b[1;32m--> 314\u001b[0m output \u001b[38;5;241m=\u001b[39m \u001b[38;5;28;43mself\u001b[39;49m\u001b[38;5;241;43m.\u001b[39;49m\u001b[43m_fit_resample\u001b[49m\u001b[43m(\u001b[49m\u001b[43mX\u001b[49m\u001b[43m,\u001b[49m\u001b[43m \u001b[49m\u001b[43my\u001b[49m\u001b[43m)\u001b[49m\n\u001b[0;32m    316\u001b[0m \u001b[38;5;28;01mif\u001b[39;00m \u001b[38;5;28mself\u001b[39m\u001b[38;5;241m.\u001b[39mvalidate:\n\u001b[0;32m    318\u001b[0m     y_ \u001b[38;5;241m=\u001b[39m (\n\u001b[0;32m    319\u001b[0m         label_binarize(output[\u001b[38;5;241m1\u001b[39m], classes\u001b[38;5;241m=\u001b[39mnp\u001b[38;5;241m.\u001b[39munique(y))\n\u001b[0;32m    320\u001b[0m         \u001b[38;5;28;01mif\u001b[39;00m binarize_y\n\u001b[0;32m    321\u001b[0m         \u001b[38;5;28;01melse\u001b[39;00m output[\u001b[38;5;241m1\u001b[39m]\n\u001b[0;32m    322\u001b[0m     )\n",
      "File \u001b[1;32m~\\learning\\model\\env\\lib\\site-packages\\imblearn\\base.py:330\u001b[0m, in \u001b[0;36mFunctionSampler._fit_resample\u001b[1;34m(self, X, y)\u001b[0m\n\u001b[0;32m    328\u001b[0m \u001b[38;5;28;01mdef\u001b[39;00m \u001b[38;5;21m_fit_resample\u001b[39m(\u001b[38;5;28mself\u001b[39m, X, y):\n\u001b[0;32m    329\u001b[0m     func \u001b[38;5;241m=\u001b[39m _identity \u001b[38;5;28;01mif\u001b[39;00m \u001b[38;5;28mself\u001b[39m\u001b[38;5;241m.\u001b[39mfunc \u001b[38;5;129;01mis\u001b[39;00m \u001b[38;5;28;01mNone\u001b[39;00m \u001b[38;5;28;01melse\u001b[39;00m \u001b[38;5;28mself\u001b[39m\u001b[38;5;241m.\u001b[39mfunc\n\u001b[1;32m--> 330\u001b[0m     output \u001b[38;5;241m=\u001b[39m func(X, y, \u001b[38;5;241m*\u001b[39m\u001b[38;5;241m*\u001b[39m(\u001b[38;5;28mself\u001b[39m\u001b[38;5;241m.\u001b[39mkw_args \u001b[38;5;28;01mif\u001b[39;00m \u001b[38;5;28mself\u001b[39m\u001b[38;5;241m.\u001b[39mkw_args \u001b[38;5;28;01melse\u001b[39;00m {}))\n\u001b[0;32m    331\u001b[0m     \u001b[38;5;28;01mreturn\u001b[39;00m output\n",
      "Input \u001b[1;32mIn [6]\u001b[0m, in \u001b[0;36mCustomSampler_IQR\u001b[1;34m(X, y)\u001b[0m\n\u001b[0;32m      1\u001b[0m \u001b[38;5;28;01mdef\u001b[39;00m \u001b[38;5;21mCustomSampler_IQR\u001b[39m (X, y):\n\u001b[1;32m----> 3\u001b[0m     features \u001b[38;5;241m=\u001b[39m \u001b[43mX\u001b[49m\u001b[38;5;241;43m.\u001b[39;49m\u001b[43mcolumns\u001b[49m\n\u001b[0;32m      4\u001b[0m     df \u001b[38;5;241m=\u001b[39m X\u001b[38;5;241m.\u001b[39mcopy()\n\u001b[0;32m      5\u001b[0m     df[\u001b[38;5;124m'\u001b[39m\u001b[38;5;124mOutcome\u001b[39m\u001b[38;5;124m'\u001b[39m] \u001b[38;5;241m=\u001b[39m y\n",
      "\u001b[1;31mAttributeError\u001b[0m: 'numpy.ndarray' object has no attribute 'columns'"
     ]
    }
   ],
   "source": [
    "# Run the pipeline\n",
    "final_pipeline.fit(X_train, y_train)"
   ]
  },
  {
   "cell_type": "code",
   "execution_count": null,
   "id": "35e990f9-ede3-4c94-bdc7-928568cc3390",
   "metadata": {},
   "outputs": [],
   "source": [
    "# Predict \n",
    "y_pred = final_pipeline.predict(X_test)"
   ]
  },
  {
   "cell_type": "code",
   "execution_count": null,
   "id": "ee346c70-1f15-4039-8a35-a0103d057c85",
   "metadata": {},
   "outputs": [],
   "source": [
    "# Mesure accuracy\n",
    "print(\"Accuracy Score: \", accuracy_score(y_test, y_pred))\n",
    "print(\"F1 Score: \", f1_score(y_test, y_pred, average='weighted'))\n",
    "print(\"Precision Score: \", precision_score(y_test, y_pred, average='weighted'))\n",
    "print(\"Recall Score: \", recall_score(y_test, y_pred, average='weighted'))"
   ]
  },
  {
   "cell_type": "code",
   "execution_count": null,
   "id": "b6a02774-c6e3-4fc8-8c81-1b0a047545f3",
   "metadata": {},
   "outputs": [],
   "source": []
  }
 ],
 "metadata": {
  "kernelspec": {
   "display_name": "Python 3 (ipykernel)",
   "language": "python",
   "name": "python3"
  },
  "language_info": {
   "codemirror_mode": {
    "name": "ipython",
    "version": 3
   },
   "file_extension": ".py",
   "mimetype": "text/x-python",
   "name": "python",
   "nbconvert_exporter": "python",
   "pygments_lexer": "ipython3",
   "version": "3.10.3"
  }
 },
 "nbformat": 4,
 "nbformat_minor": 5
}
