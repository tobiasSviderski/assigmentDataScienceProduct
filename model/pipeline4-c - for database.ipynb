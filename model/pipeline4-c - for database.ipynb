{
 "cells": [
  {
   "cell_type": "code",
   "execution_count": 10,
   "id": "dc4b042d-e81f-4963-9476-babcf17e746f",
   "metadata": {},
   "outputs": [],
   "source": [
    "## Working with data frames\n",
    "import pandas as pd\n",
    "import numpy as np\n",
    "from scipy import stats # Exclude outliers\n"
   ]
  },
  {
   "cell_type": "code",
   "execution_count": 11,
   "id": "198ff1f4-9b9d-4d34-9b14-3d2a0942e6c8",
   "metadata": {
    "tags": []
   },
   "outputs": [],
   "source": [
    "# Create data frame of people\n",
    "pple = (\n",
    "    pd.read_csv(\"application_record.csv\")  # Read the csv file\n",
    "    .drop_duplicates('ID', keep='last')  # Drop duplicate ids\n",
    "    # .drop('OCCUPATION_TYPE', axis=1)  # Drop occupation type column\n",
    ")  # 438 510 rows"
   ]
  },
  {
   "cell_type": "code",
   "execution_count": 12,
   "id": "f90fc02b-2cf9-4eb8-b895-da431027a6c5",
   "metadata": {},
   "outputs": [],
   "source": [
    "# Create data frame of record\n",
    "record = (\n",
    "    # Read the csv file\n",
    "    pd.read_csv(\"credit_record.csv\")  \n",
    "    # Drop months balance its not needed\n",
    "    .drop('MONTHS_BALANCE', axis=1)  \n",
    "     # Replace the text - it means the same thing\n",
    "    .replace({'C': 0, 'X' : 0}) \n",
    "    # Convert to number\n",
    "    .assign(STATUS=lambda x: pd.to_numeric(x['STATUS']))  \n",
    ")  # 45985 rows\n",
    "\n",
    "\n",
    "\n",
    "# Mark the rows where the person owed the debt for two or more monts\n",
    "# as default marker 1 otherwise 0\n",
    "record['RESULT'] = record['STATUS'].apply(lambda x:1 if x >= 2 else 0) \n",
    "\n",
    "# resulta = df.loc[df['RESULT'] == 1]\n",
    "# print(resulta.iloc[1])\n",
    "\n",
    "# Join the two data frames based on the ID inner wise\n",
    "df = pple.join(record.set_index('ID'), on='ID', how='inner')  # 36457 rows"
   ]
  },
  {
   "cell_type": "code",
   "execution_count": 13,
   "id": "bce61476-24f5-4530-ab1e-8cdd7fd55be6",
   "metadata": {},
   "outputs": [],
   "source": [
    "# Features that need to be manipulated with\n",
    "numeric_features = ['AMT_INCOME_TOTAL', 'DAYS_BIRTH', 'CNT_CHILDREN', \n",
    "                    'DAYS_EMPLOYED', 'CNT_FAM_MEMBERS']\n",
    "\n",
    "categorical_features = ['CODE_GENDER', 'FLAG_OWN_CAR', 'FLAG_OWN_REALTY', \n",
    "                        'NAME_INCOME_TYPE', 'NAME_EDUCATION_TYPE', \n",
    "                        'NAME_FAMILY_STATUS','NAME_HOUSING_TYPE']"
   ]
  },
  {
   "cell_type": "code",
   "execution_count": 14,
   "id": "550f071a-0574-4867-b941-00c2830c695d",
   "metadata": {},
   "outputs": [],
   "source": [
    "for column in numeric_features:\n",
    "    df[(np.abs(stats.zscore(df[column])) < 3)]"
   ]
  },
  {
   "cell_type": "code",
   "execution_count": 17,
   "id": "799ab732-a21f-4e6b-8a95-b0edba23e354",
   "metadata": {},
   "outputs": [
    {
     "data": {
      "text/plain": [
       "0    36456\n",
       "1        1\n",
       "Name: RESULT, dtype: int64"
      ]
     },
     "execution_count": 17,
     "metadata": {},
     "output_type": "execute_result"
    }
   ],
   "source": [
    "# df['RESULT'].value_counts()\n",
    "df['RESULT'].value_counts()\n"
   ]
  },
  {
   "cell_type": "code",
   "execution_count": 6,
   "id": "b6a02774-c6e3-4fc8-8c81-1b0a047545f3",
   "metadata": {},
   "outputs": [],
   "source": [
    "# # Sving the pipeline\n",
    "# save_file_name = 'credit_risk_pipeline.pkl'  # Name\n",
    "# save_path = \"../backend/core/\"  # Path"
   ]
  },
  {
   "cell_type": "code",
   "execution_count": 16,
   "id": "c682fd72-ff10-46eb-9f49-62aa77961d3e",
   "metadata": {},
   "outputs": [],
   "source": [
    "df = df.drop_duplicates('ID', keep='last')  # Drop duplicate ids\n"
   ]
  },
  {
   "cell_type": "code",
   "execution_count": 82,
   "id": "ef2c9b5f-651f-45e4-b554-abd9b23a87c0",
   "metadata": {},
   "outputs": [],
   "source": [
    "INCOME_CHOICES = [['commercial', 'Commercial associate'],\n",
    "                  ['working', 'Working'],\n",
    "                  ['pensioner', 'Pensioner'],\n",
    "                  ['state', 'State servant'],\n",
    "                  ['student', 'Student']]\n",
    "\n",
    "    \n",
    "EDUCATION_CHOICES = [['degree', 'Academic degree'],\n",
    "                     ['higher', 'Higher education'],\n",
    "                     ['secondary', 'Secondary / secondary special'],\n",
    "                    [ 'higher_incompl[ete', 'Incomplete higher'],\n",
    "                    [ 'lower', 'Lower secondary']]\n",
    "\n",
    "FAMILY_CHOICES =  [['civil', 'Civil marriage'],\n",
    "                  ['married', 'Married'],\n",
    "                  ['single', 'Single / not married'],\n",
    "                  ['separated', 'Separated'],\n",
    "                  ['widow', 'Widow']]\n",
    "                \n",
    "HOUSING_CHOICES = [['rented', 'Rented apartment'],\n",
    "    ['house', 'House / apartment'],\n",
    "    ['coop', 'Co-op apartment'],\n",
    "    ['municipal', 'Municipal apartment'],\n",
    "    ['office', 'Office apartment'],\n",
    "    ['parents', 'With parents']]\n"
   ]
  },
  {
   "cell_type": "code",
   "execution_count": null,
   "id": "4bc06e37-2f83-4c8b-8506-9eb1781372c8",
   "metadata": {},
   "outputs": [],
   "source": [
    "def replace(word, array):\n",
    "    for row in array:\n",
    "        key = row[0]\n",
    "        value = row[1]\n",
    "        # print(word, \"  \", value)\n",
    "        if word == value:\n",
    "            return key\n",
    "        \n",
    "    return array[-1][0]"
   ]
  },
  {
   "cell_type": "code",
   "execution_count": 84,
   "id": "76fe1132-6438-4f70-aee0-11c0df5af9a2",
   "metadata": {
    "tags": []
   },
   "outputs": [],
   "source": [
    "# [\n",
    "#   {\n",
    "#     \"model\": \"myapp.person\",\n",
    "#     \"pk\": 1,\n",
    "#     \"fields\": {\n",
    "#       \"first_name\": \"John\",\n",
    "#       \"last_name\": \"Lennon\"\n",
    "#     }\n",
    "#   },\n",
    "#   {\n",
    "#     \"model\": \"myapp.person\",\n",
    "#     \"pk\": 2,\n",
    "#     \"fields\": {\n",
    "#       \"first_name\": \"Paul\",\n",
    "#       \"last_name\": \"McCartney\"\n",
    "#     }\n",
    "#   }\n",
    "# ]"
   ]
  },
  {
   "cell_type": "code",
   "execution_count": null,
   "id": "2e65232d-1ea0-43fb-b011-8d18fac5dc04",
   "metadata": {},
   "outputs": [],
   "source": [
    "\n",
    "## TO JSON FORMAT\n",
    "final_array = []\n",
    "\n",
    "for index, row in df.iterrows():\n",
    "    default_object = {}\n",
    "    default_object['model'] = \"website.applicationrecord\"\n",
    "    default_object['pk'] = row['ID']\n",
    "    default_object['fields'] = {}\n",
    "    default_object['fields']['code_gender'] = row['CODE_GENDER']\n",
    "    default_object['fields']['flag_own_car'] = True if row['FLAG_OWN_CAR'] == \"Y\" else False\n",
    "    default_object['fields']['flag_own_realty'] = True if row['FLAG_OWN_REALTY'] == \"Y\" else False\n",
    "    default_object['fields']['cnt_children'] = row['CNT_CHILDREN']\n",
    "    default_object['fields']['amt_income_total'] = row['AMT_INCOME_TOTAL']\n",
    "    default_object['fields']['days_birth'] = row['DAYS_BIRTH']\n",
    "    default_object['fields']['days_employed'] = row['DAYS_EMPLOYED']\n",
    "    default_object['fields']['flag_mobil'] = True if row['FLAG_MOBIL'] == \"Y\" else False\n",
    "    default_object['fields']['flag_work_phone'] = True if row['FLAG_WORK_PHONE'] == \"Y\" else False\n",
    "    default_object['fields']['flag_phone'] = True if row['FLAG_PHONE'] == \"Y\" else False\n",
    "    default_object['fields']['flag_email'] = True if row['FLAG_EMAIL'] == \"Y\" else False\n",
    "    \n",
    "    if 'OCCUPATION_TYPE' in row:\n",
    "        default_object['fields']['occupation_type'] = row['occupation_type']\n",
    "    else: \n",
    "        default_object['fields']['occupation_type'] = ''\n",
    "    \n",
    "    \n",
    "    default_object['fields']['name_income_type'] = replace(row['NAME_INCOME_TYPE'],INCOME_CHOICES)\n",
    "    default_object['fields']['name_education_type'] = replace(row['NAME_EDUCATION_TYPE'], EDUCATION_CHOICES)\n",
    "    default_object['fields']['name_family_status'] = replace(row['NAME_FAMILY_STATUS'], FAMILY_CHOICES)\n",
    "    default_object['fields']['name_housing_type'] = replace(row['NAME_HOUSING_TYPE'], HOUSING_CHOICES)\n",
    "    default_object['fields']['cnt_fam_members'] = row['CNT_FAM_MEMBERS']\n",
    "    default_object['fields']['status'] = row['RESULT']\n",
    "    final_array.append(default_object)\n",
    "    \n",
    "\n",
    "import json\n",
    "# Directly from dictionary\n",
    "with open('json_data.json', 'w') as outfile:\n",
    "    json.dump(final_array, outfile)"
   ]
  },
  {
   "cell_type": "code",
   "execution_count": null,
   "id": "0c88804b-ff81-408e-a0d0-3bce9e1d2d18",
   "metadata": {},
   "outputs": [],
   "source": []
  }
 ],
 "metadata": {
  "kernelspec": {
   "display_name": "Python 3 (ipykernel)",
   "language": "python",
   "name": "python3"
  },
  "language_info": {
   "codemirror_mode": {
    "name": "ipython",
    "version": 3
   },
   "file_extension": ".py",
   "mimetype": "text/x-python",
   "name": "python",
   "nbconvert_exporter": "python",
   "pygments_lexer": "ipython3",
   "version": "3.10.3"
  }
 },
 "nbformat": 4,
 "nbformat_minor": 5
}
