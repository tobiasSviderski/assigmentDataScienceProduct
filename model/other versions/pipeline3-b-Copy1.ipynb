{
 "cells": [
  {
   "cell_type": "code",
   "execution_count": 1,
   "id": "dc4b042d-e81f-4963-9476-babcf17e746f",
   "metadata": {},
   "outputs": [],
   "source": [
    "## Preprocessing\n",
    "from sklearn.preprocessing import LabelEncoder, OneHotEncoder\n",
    "from sklearn.preprocessing import StandardScaler\n",
    "from sklearn.impute import SimpleImputer\n",
    "\n",
    "## Train test split\n",
    "from sklearn.model_selection import train_test_split\n",
    "\n",
    "## Pipeline\n",
    "from imblearn.pipeline import Pipeline  #  Pipeline\n",
    "from sklearn.compose import ColumnTransformer  # Join transformers\n",
    "from imblearn.over_sampling import SMOTE  # Oversampling technique\n",
    "\n",
    "## Model\n",
    "from sklearn.tree import DecisionTreeClassifier\n",
    "\n",
    "## Precision metrics\n",
    "import sklearn.metrics as metrics\n",
    "from sklearn.metrics import accuracy_score\n",
    "from sklearn.metrics import f1_score\n",
    "from sklearn.metrics import precision_score\n",
    "from sklearn.metrics import recall_score\n",
    "\n",
    "## Working with data frames\n",
    "import pandas as pd"
   ]
  },
  {
   "cell_type": "code",
   "execution_count": 2,
   "id": "198ff1f4-9b9d-4d34-9b14-3d2a0942e6c8",
   "metadata": {
    "tags": []
   },
   "outputs": [],
   "source": [
    "# Create data frame of people\n",
    "pple = (\n",
    "    pd.read_csv(\"application_record.csv\")  # Read the csv file\n",
    "    .drop_duplicates('ID', keep='last')  # Drop duplicate ids\n",
    "    .drop('OCCUPATION_TYPE', axis=1)  # Drop occupation type column\n",
    ")  # 438 510 rows"
   ]
  },
  {
   "cell_type": "code",
   "execution_count": 3,
   "id": "f90fc02b-2cf9-4eb8-b895-da431027a6c5",
   "metadata": {},
   "outputs": [],
   "source": [
    "# Create data frame of record\n",
    "record = (\n",
    "    # Read the csv file\n",
    "    pd.read_csv(\"credit_record.csv\")  \n",
    "    # Drop months balance its not needed\n",
    "    .drop('MONTHS_BALANCE', axis=1)  \n",
    "     # Replace the text - it means the same thing\n",
    "    .replace({'C': 0, 'X' : 0}) \n",
    "    # Convert to number\n",
    "    .assign(STATUS=lambda x: pd.to_numeric(x['STATUS']))  \n",
    ")  # 45985 rows\n",
    "\n",
    "# Mark the rows where the person owed the debt for two or more monts\n",
    "# as default marker 1 otherwise 0\n",
    "record['RESULT'] = record['STATUS'].apply(lambda x:1 if x >= 2 else 0) \n",
    "\n",
    "# Join the two data frames based on the ID inner wise\n",
    "df = pple.join(record.set_index('ID'), on='ID', how='inner')  # 36457 rows"
   ]
  },
  {
   "cell_type": "code",
   "execution_count": 4,
   "id": "9bc9df56-6b69-4df0-898a-f0d2412da16f",
   "metadata": {},
   "outputs": [],
   "source": [
    "# Features that need to be manipulated with\n",
    "numeric_features = ['AMT_INCOME_TOTAL', 'DAYS_BIRTH', 'CNT_CHILDREN', \n",
    "                    'DAYS_EMPLOYED', 'CNT_FAM_MEMBERS']\n",
    "\n",
    "categorical_features = ['CODE_GENDER', 'FLAG_OWN_CAR', 'FLAG_OWN_REALTY', \n",
    "                        'NAME_INCOME_TYPE', 'NAME_EDUCATION_TYPE', \n",
    "                        'NAME_FAMILY_STATUS','NAME_HOUSING_TYPE']"
   ]
  },
  {
   "cell_type": "code",
   "execution_count": 5,
   "id": "3a5312d6-54ef-4cdb-bb80-34a2119d4dd9",
   "metadata": {},
   "outputs": [],
   "source": [
    "# Apply transformers\n",
    "numeric_transformer = Pipeline(steps=[\n",
    "    # Replace missing values with median\n",
    "    ('imputer', SimpleImputer(strategy='median')),  \n",
    "    ('scaler', StandardScaler())])  # Scale normally the values\n",
    "\n",
    "categorical_transformer = Pipeline(steps=[\n",
    "    # Replace missing values with the word missing\n",
    "    ('imputer', SimpleImputer(strategy='constant', fill_value='missing')), \n",
    "    # Encode the categorical values to prevent bias\n",
    "    ('onehot', OneHotEncoder(handle_unknown='ignore'))])  "
   ]
  },
  {
   "cell_type": "code",
   "execution_count": 6,
   "id": "6482ac5e-bcf0-4d04-b0e5-b647a1e6fe0a",
   "metadata": {},
   "outputs": [],
   "source": [
    "# Join the transformers into one function \n",
    "transformer = ColumnTransformer(\n",
    "    transformers = [\n",
    "        # Mame of the operation, what transformer is applied, \n",
    "        # on which features\n",
    "        ('numeric_data_preprocessing', \n",
    "         numeric_transformer, numeric_features),\n",
    "        ('categorical_data_preprocessing', \n",
    "         categorical_transformer, categorical_features),\n",
    "    ]\n",
    ")"
   ]
  },
  {
   "cell_type": "code",
   "execution_count": 7,
   "id": "5c323e4c-c57b-41db-ae26-39b242ac2a39",
   "metadata": {},
   "outputs": [],
   "source": [
    "# Creating a pipeline with specific steps\n",
    "final_pipeline = Pipeline(\n",
    "    steps=[\n",
    "        # Apply transformation rules on the features\n",
    "        ('transformer', transformer),  \n",
    "        # Imbalanced dataset\n",
    "        ('imbalanced', SMOTE(random_state=38)),  \n",
    "        # Apply statistical model\n",
    "        ('rf_estimator', DecisionTreeClassifier())  \n",
    "    ])"
   ]
  },
  {
   "cell_type": "code",
   "execution_count": 8,
   "id": "3e12e218-f410-4406-89af-3e6b1f4d2c8d",
   "metadata": {},
   "outputs": [],
   "source": [
    "# Preparing before using the pipeline on the dataframe\n",
    "\n",
    "# Split the data into train and test\n",
    "# Divide the data frame and the actual results\n",
    "X = df.drop('RESULT', axis=1) \n",
    "y = df['RESULT']\n",
    "\n",
    "# Split into test, train and data, results\n",
    "X_train, X_test, y_train, y_test = train_test_split(X, y, test_size=.2)"
   ]
  },
  {
   "cell_type": "code",
   "execution_count": 9,
   "id": "11ab65a5-6044-415c-bccc-ddad169b7f4b",
   "metadata": {
    "tags": []
   },
   "outputs": [
    {
     "data": {
      "text/plain": [
       "Pipeline(steps=[('transformer',\n",
       "                 ColumnTransformer(transformers=[('numeric_data_preprocessing',\n",
       "                                                  Pipeline(steps=[('imputer',\n",
       "                                                                   SimpleImputer(strategy='median')),\n",
       "                                                                  ('scaler',\n",
       "                                                                   StandardScaler())]),\n",
       "                                                  ['AMT_INCOME_TOTAL',\n",
       "                                                   'DAYS_BIRTH', 'CNT_CHILDREN',\n",
       "                                                   'DAYS_EMPLOYED',\n",
       "                                                   'CNT_FAM_MEMBERS']),\n",
       "                                                 ('categorical_data_preprocessing',\n",
       "                                                  Pipeline(steps=[('imputer',\n",
       "                                                                   SimpleImputer(fill_value='missing',\n",
       "                                                                                 strategy='constant')),\n",
       "                                                                  ('onehot',\n",
       "                                                                   OneHotEncoder(handle_unknown='ignore'))]),\n",
       "                                                  ['CODE_GENDER',\n",
       "                                                   'FLAG_OWN_CAR',\n",
       "                                                   'FLAG_OWN_REALTY',\n",
       "                                                   'NAME_INCOME_TYPE',\n",
       "                                                   'NAME_EDUCATION_TYPE',\n",
       "                                                   'NAME_FAMILY_STATUS',\n",
       "                                                   'NAME_HOUSING_TYPE'])])),\n",
       "                ('imbalanced', SMOTE(random_state=38)),\n",
       "                ('rf_estimator', DecisionTreeClassifier())])"
      ]
     },
     "execution_count": 9,
     "metadata": {},
     "output_type": "execute_result"
    }
   ],
   "source": [
    "# Run the pipeline\n",
    "final_pipeline.fit(X_train, y_train)"
   ]
  },
  {
   "cell_type": "code",
   "execution_count": 10,
   "id": "35e990f9-ede3-4c94-bdc7-928568cc3390",
   "metadata": {},
   "outputs": [],
   "source": [
    "# Predict \n",
    "y_pred = final_pipeline.predict(X_test)"
   ]
  },
  {
   "cell_type": "code",
   "execution_count": 11,
   "id": "ee346c70-1f15-4039-8a35-a0103d057c85",
   "metadata": {},
   "outputs": [
    {
     "name": "stdout",
     "output_type": "stream",
     "text": [
      "Accuracy Score:  0.9704068971281253\n",
      "F1 Score:  0.9820919764046849\n",
      "Precision Score:  0.9963519530160267\n",
      "Recall Score:  0.9704068971281253\n"
     ]
    }
   ],
   "source": [
    "# Measure accuracy\n",
    "print(\"Accuracy Score: \", accuracy_score(y_test, y_pred))\n",
    "print(\"F1 Score: \", f1_score(y_test, y_pred, average='weighted'))\n",
    "print(\"Precision Score: \", precision_score(y_test, y_pred, average='weighted'))\n",
    "print(\"Recall Score: \", recall_score(y_test, y_pred, average='weighted'))"
   ]
  },
  {
   "cell_type": "code",
   "execution_count": null,
   "id": "b6a02774-c6e3-4fc8-8c81-1b0a047545f3",
   "metadata": {},
   "outputs": [],
   "source": []
  }
 ],
 "metadata": {
  "kernelspec": {
   "display_name": "Python 3 (ipykernel)",
   "language": "python",
   "name": "python3"
  },
  "language_info": {
   "codemirror_mode": {
    "name": "ipython",
    "version": 3
   },
   "file_extension": ".py",
   "mimetype": "text/x-python",
   "name": "python",
   "nbconvert_exporter": "python",
   "pygments_lexer": "ipython3",
   "version": "3.10.3"
  }
 },
 "nbformat": 4,
 "nbformat_minor": 5
}
